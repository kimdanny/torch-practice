{
 "cells": [
  {
   "cell_type": "code",
   "execution_count": 1,
   "id": "later-graph",
   "metadata": {},
   "outputs": [],
   "source": [
    "import torch\n",
    "import numpy as np"
   ]
  },
  {
   "cell_type": "code",
   "execution_count": 4,
   "id": "fresh-handbook",
   "metadata": {},
   "outputs": [
    {
     "data": {
      "text/plain": [
       "tensor([[1, 2],\n",
       "        [3, 4]])"
      ]
     },
     "execution_count": 4,
     "metadata": {},
     "output_type": "execute_result"
    }
   ],
   "source": [
    "data = [[1, 2], [3, 4]]\n",
    "x_data = torch.tensor(data)\n",
    "x_data"
   ]
  },
  {
   "cell_type": "code",
   "execution_count": 7,
   "id": "native-partner",
   "metadata": {},
   "outputs": [
    {
     "data": {
      "text/plain": [
       "(tensor([[1, 2],\n",
       "         [3, 4]]),\n",
       " tensor([[1, 2],\n",
       "         [3, 4]]))"
      ]
     },
     "execution_count": 7,
     "metadata": {},
     "output_type": "execute_result"
    }
   ],
   "source": [
    "# compatible with numpy array\n",
    "np_array = np.array(data)\n",
    "x_np = torch.tensor(np_array)\n",
    "x_np2 = torch.from_numpy(np_array)\n",
    "x_np, x_np2"
   ]
  },
  {
   "cell_type": "code",
   "execution_count": 9,
   "id": "different-distance",
   "metadata": {},
   "outputs": [
    {
     "data": {
      "text/plain": [
       "(torch.Size([2, 2]), torch.Size([2, 2]))"
      ]
     },
     "execution_count": 9,
     "metadata": {},
     "output_type": "execute_result"
    }
   ],
   "source": [
    "x_data.shape, x_np.shape"
   ]
  },
  {
   "cell_type": "code",
   "execution_count": 10,
   "id": "funky-yugoslavia",
   "metadata": {},
   "outputs": [
    {
     "data": {
      "text/plain": [
       "tensor([[1, 1],\n",
       "        [1, 1]])"
      ]
     },
     "execution_count": 10,
     "metadata": {},
     "output_type": "execute_result"
    }
   ],
   "source": [
    "# Retains the properties of x_data e.g) retains shape\n",
    "# but change every entry to 1\n",
    "x_ones = torch.ones_like(x_data)\n",
    "x_ones"
   ]
  },
  {
   "cell_type": "code",
   "execution_count": 13,
   "id": "biblical-trader",
   "metadata": {},
   "outputs": [
    {
     "ename": "RuntimeError",
     "evalue": "\"check_uniform_bounds\" not implemented for 'Long'",
     "output_type": "error",
     "traceback": [
      "\u001b[0;31m---------------------------------------------------------------------------\u001b[0m",
      "\u001b[0;31mRuntimeError\u001b[0m                              Traceback (most recent call last)",
      "\u001b[0;32m<ipython-input-13-b1b3bc8c987f>\u001b[0m in \u001b[0;36m<module>\u001b[0;34m\u001b[0m\n\u001b[1;32m      1\u001b[0m \u001b[0;31m# Retains the properties of x_data\u001b[0m\u001b[0;34m\u001b[0m\u001b[0;34m\u001b[0m\u001b[0;34m\u001b[0m\u001b[0m\n\u001b[1;32m      2\u001b[0m \u001b[0;31m# but change every entry to randomised data\u001b[0m\u001b[0;34m\u001b[0m\u001b[0;34m\u001b[0m\u001b[0;34m\u001b[0m\u001b[0m\n\u001b[0;32m----> 3\u001b[0;31m \u001b[0mx_rand\u001b[0m \u001b[0;34m=\u001b[0m \u001b[0mtorch\u001b[0m\u001b[0;34m.\u001b[0m\u001b[0mrand_like\u001b[0m\u001b[0;34m(\u001b[0m\u001b[0mx_data\u001b[0m\u001b[0;34m)\u001b[0m\u001b[0;34m\u001b[0m\u001b[0;34m\u001b[0m\u001b[0m\n\u001b[0m\u001b[1;32m      4\u001b[0m \u001b[0mx_rand\u001b[0m\u001b[0;34m\u001b[0m\u001b[0;34m\u001b[0m\u001b[0m\n",
      "\u001b[0;31mRuntimeError\u001b[0m: \"check_uniform_bounds\" not implemented for 'Long'"
     ]
    }
   ],
   "source": [
    "# Retains the properties of x_data\n",
    "# but change every entry to randomised data\n",
    "x_rand = torch.rand_like(x_data)  # ERROR!\n",
    "x_rand"
   ]
  },
  {
   "cell_type": "code",
   "execution_count": 14,
   "id": "lucky-windsor",
   "metadata": {},
   "outputs": [
    {
     "data": {
      "text/plain": [
       "tensor([[0.1631, 0.6977],\n",
       "        [0.7419, 0.8283]])"
      ]
     },
     "execution_count": 14,
     "metadata": {},
     "output_type": "execute_result"
    }
   ],
   "source": [
    "# Must override the datatype of x_data: float\n",
    "x_rand = torch.rand_like(x_data, dtype=torch.float)\n",
    "x_rand"
   ]
  },
  {
   "cell_type": "code",
   "execution_count": 17,
   "id": "little-crash",
   "metadata": {},
   "outputs": [
    {
     "data": {
      "text/plain": [
       "tensor([[0.0255, 0.6369, 0.9646],\n",
       "        [0.9964, 0.5512, 0.4746]])"
      ]
     },
     "execution_count": 17,
     "metadata": {},
     "output_type": "execute_result"
    }
   ],
   "source": [
    "shape = (2, 3)\n",
    "rand_tensor = torch.rand(shape)\n",
    "rand_tensor"
   ]
  },
  {
   "cell_type": "code",
   "execution_count": 18,
   "id": "addressed-collector",
   "metadata": {},
   "outputs": [
    {
     "data": {
      "text/plain": [
       "tensor([[1., 1., 1.],\n",
       "        [1., 1., 1.]])"
      ]
     },
     "execution_count": 18,
     "metadata": {},
     "output_type": "execute_result"
    }
   ],
   "source": [
    "ones_tensor = torch.ones(shape)\n",
    "ones_tensor"
   ]
  },
  {
   "cell_type": "code",
   "execution_count": 20,
   "id": "alternate-welding",
   "metadata": {},
   "outputs": [
    {
     "data": {
      "text/plain": [
       "tensor([[0., 0., 0.],\n",
       "        [0., 0., 0.]])"
      ]
     },
     "execution_count": 20,
     "metadata": {},
     "output_type": "execute_result"
    }
   ],
   "source": [
    "zeros_tensor = torch.zeros(shape)\n",
    "zeros_tensor"
   ]
  },
  {
   "cell_type": "code",
   "execution_count": 21,
   "id": "fresh-peace",
   "metadata": {},
   "outputs": [],
   "source": [
    "## Tensor Attributes ##"
   ]
  },
  {
   "cell_type": "code",
   "execution_count": 23,
   "id": "charitable-claim",
   "metadata": {},
   "outputs": [
    {
     "name": "stdout",
     "output_type": "stream",
     "text": [
      "torch.Size([3, 4])\n",
      "torch.float32\n",
      "cpu\n"
     ]
    },
    {
     "data": {
      "text/plain": [
       "tensor([[0.4477, 0.9725, 0.4603, 0.9354],\n",
       "        [0.5483, 0.6573, 0.6367, 0.5844],\n",
       "        [0.6797, 0.5668, 0.9768, 0.2024]])"
      ]
     },
     "execution_count": 23,
     "metadata": {},
     "output_type": "execute_result"
    }
   ],
   "source": [
    "tensor = torch.rand(3, 4)\n",
    "print(tensor.shape)\n",
    "print(tensor.dtype)\n",
    "print(tensor.device)\n",
    "tensor"
   ]
  },
  {
   "cell_type": "code",
   "execution_count": 26,
   "id": "moderate-judge",
   "metadata": {},
   "outputs": [
    {
     "name": "stdout",
     "output_type": "stream",
     "text": [
      "False\n"
     ]
    }
   ],
   "source": [
    "## Check if GPU is available ##\n",
    "print(torch.cuda.is_available())\n",
    "\n",
    "if torch.cuda.is_available():\n",
    "    tensor = tensor.to('cuda')"
   ]
  },
  {
   "cell_type": "code",
   "execution_count": 28,
   "id": "contained-compiler",
   "metadata": {},
   "outputs": [],
   "source": [
    "## Indexing, slicing, joining and multiplying like numpy ##"
   ]
  },
  {
   "cell_type": "code",
   "execution_count": null,
   "id": "romance-garage",
   "metadata": {},
   "outputs": [],
   "source": [
    "# Indexing and slicing"
   ]
  },
  {
   "cell_type": "code",
   "execution_count": 48,
   "id": "olympic-crack",
   "metadata": {},
   "outputs": [
    {
     "data": {
      "text/plain": [
       "tensor([[0.8635, 0.4430, 0.1307, 0.6370],\n",
       "        [0.1044, 0.5282, 0.4938, 0.5815],\n",
       "        [0.2658, 0.2232, 0.7220, 0.2865],\n",
       "        [0.4285, 0.8710, 0.5060, 0.3809]])"
      ]
     },
     "execution_count": 48,
     "metadata": {},
     "output_type": "execute_result"
    }
   ],
   "source": [
    "tensor = torch.rand(4, 4)\n",
    "tensor"
   ]
  },
  {
   "cell_type": "code",
   "execution_count": 49,
   "id": "naval-anderson",
   "metadata": {},
   "outputs": [
    {
     "data": {
      "text/plain": [
       "(tensor([0.1044, 0.5282, 0.4938, 0.5815]),\n",
       " tensor([0.4430, 0.5282, 0.2232, 0.8710]))"
      ]
     },
     "execution_count": 49,
     "metadata": {},
     "output_type": "execute_result"
    }
   ],
   "source": [
    "tensor[1], tensor[:, 1]"
   ]
  },
  {
   "cell_type": "code",
   "execution_count": 50,
   "id": "prime-console",
   "metadata": {},
   "outputs": [
    {
     "data": {
      "text/plain": [
       "tensor([[0.8635, 0.0000, 0.1307, 0.6370],\n",
       "        [0.1044, 0.0000, 0.4938, 0.5815],\n",
       "        [0.2658, 0.0000, 0.7220, 0.2865],\n",
       "        [0.4285, 0.0000, 0.5060, 0.3809]])"
      ]
     },
     "execution_count": 50,
     "metadata": {},
     "output_type": "execute_result"
    }
   ],
   "source": [
    "tensor[:, 1] = 0\n",
    "tensor"
   ]
  },
  {
   "cell_type": "code",
   "execution_count": null,
   "id": "dense-archive",
   "metadata": {},
   "outputs": [],
   "source": []
  },
  {
   "cell_type": "code",
   "execution_count": 51,
   "id": "threatened-disclosure",
   "metadata": {},
   "outputs": [],
   "source": [
    "# Joining tensors: torch.cat()"
   ]
  },
  {
   "cell_type": "code",
   "execution_count": 58,
   "id": "polyphonic-classroom",
   "metadata": {},
   "outputs": [
    {
     "name": "stdout",
     "output_type": "stream",
     "text": [
      "torch.Size([4, 12])\n"
     ]
    },
    {
     "data": {
      "text/plain": [
       "tensor([[0.8635, 0.0000, 0.1307, 0.6370, 0.8635, 0.0000, 0.1307, 0.6370, 0.8635,\n",
       "         0.0000, 0.1307, 0.6370],\n",
       "        [0.1044, 0.0000, 0.4938, 0.5815, 0.1044, 0.0000, 0.4938, 0.5815, 0.1044,\n",
       "         0.0000, 0.4938, 0.5815],\n",
       "        [0.2658, 0.0000, 0.7220, 0.2865, 0.2658, 0.0000, 0.7220, 0.2865, 0.2658,\n",
       "         0.0000, 0.7220, 0.2865],\n",
       "        [0.4285, 0.0000, 0.5060, 0.3809, 0.4285, 0.0000, 0.5060, 0.3809, 0.4285,\n",
       "         0.0000, 0.5060, 0.3809]])"
      ]
     },
     "execution_count": 58,
     "metadata": {},
     "output_type": "execute_result"
    }
   ],
   "source": [
    "t1 = torch.cat([tensor, tensor, tensor], dim=1)\n",
    "print(t1.shape)\n",
    "t1"
   ]
  },
  {
   "cell_type": "code",
   "execution_count": 59,
   "id": "vietnamese-dance",
   "metadata": {},
   "outputs": [
    {
     "name": "stdout",
     "output_type": "stream",
     "text": [
      "torch.Size([12, 4])\n"
     ]
    },
    {
     "data": {
      "text/plain": [
       "tensor([[0.8635, 0.0000, 0.1307, 0.6370],\n",
       "        [0.1044, 0.0000, 0.4938, 0.5815],\n",
       "        [0.2658, 0.0000, 0.7220, 0.2865],\n",
       "        [0.4285, 0.0000, 0.5060, 0.3809],\n",
       "        [0.8635, 0.0000, 0.1307, 0.6370],\n",
       "        [0.1044, 0.0000, 0.4938, 0.5815],\n",
       "        [0.2658, 0.0000, 0.7220, 0.2865],\n",
       "        [0.4285, 0.0000, 0.5060, 0.3809],\n",
       "        [0.8635, 0.0000, 0.1307, 0.6370],\n",
       "        [0.1044, 0.0000, 0.4938, 0.5815],\n",
       "        [0.2658, 0.0000, 0.7220, 0.2865],\n",
       "        [0.4285, 0.0000, 0.5060, 0.3809]])"
      ]
     },
     "execution_count": 59,
     "metadata": {},
     "output_type": "execute_result"
    }
   ],
   "source": [
    "t2 = torch.cat([tensor, tensor, tensor], dim=0)\n",
    "print(t2.shape)\n",
    "t2"
   ]
  },
  {
   "cell_type": "code",
   "execution_count": null,
   "id": "cubic-complex",
   "metadata": {},
   "outputs": [],
   "source": []
  },
  {
   "cell_type": "code",
   "execution_count": 60,
   "id": "difficult-cookbook",
   "metadata": {},
   "outputs": [],
   "source": [
    "# Multiplying tensors"
   ]
  },
  {
   "cell_type": "code",
   "execution_count": 68,
   "id": "physical-favor",
   "metadata": {},
   "outputs": [
    {
     "data": {
      "text/plain": [
       "tensor([[1., 0., 2., 1.],\n",
       "        [1., 0., 2., 1.],\n",
       "        [1., 0., 2., 1.],\n",
       "        [1., 0., 2., 1.]])"
      ]
     },
     "execution_count": 68,
     "metadata": {},
     "output_type": "execute_result"
    }
   ],
   "source": [
    "tensor = torch.ones(4, 4)\n",
    "tensor[:, 1] = 0\n",
    "tensor[:, 2] = 2\n",
    "tensor"
   ]
  },
  {
   "cell_type": "code",
   "execution_count": 69,
   "id": "associate-speaker",
   "metadata": {},
   "outputs": [
    {
     "data": {
      "text/plain": [
       "tensor([[1., 0., 4., 1.],\n",
       "        [1., 0., 4., 1.],\n",
       "        [1., 0., 4., 1.],\n",
       "        [1., 0., 4., 1.]])"
      ]
     },
     "execution_count": 69,
     "metadata": {},
     "output_type": "execute_result"
    }
   ],
   "source": [
    "# 1st way: \n",
    "tensor.mul(tensor)  # element-wise product"
   ]
  },
  {
   "cell_type": "code",
   "execution_count": 70,
   "id": "interesting-production",
   "metadata": {},
   "outputs": [
    {
     "data": {
      "text/plain": [
       "tensor([[1., 0., 4., 1.],\n",
       "        [1., 0., 4., 1.],\n",
       "        [1., 0., 4., 1.],\n",
       "        [1., 0., 4., 1.]])"
      ]
     },
     "execution_count": 70,
     "metadata": {},
     "output_type": "execute_result"
    }
   ],
   "source": [
    "# 2nd way:\n",
    "tensor * tensor  # element-wise product"
   ]
  },
  {
   "cell_type": "code",
   "execution_count": null,
   "id": "twelve-placement",
   "metadata": {},
   "outputs": [],
   "source": []
  },
  {
   "cell_type": "code",
   "execution_count": 71,
   "id": "athletic-carpet",
   "metadata": {},
   "outputs": [],
   "source": [
    "# Matrix muliplication"
   ]
  },
  {
   "cell_type": "code",
   "execution_count": 74,
   "id": "registered-jason",
   "metadata": {},
   "outputs": [
    {
     "data": {
      "text/plain": [
       "tensor([[6., 6., 6., 6.],\n",
       "        [6., 6., 6., 6.],\n",
       "        [6., 6., 6., 6.],\n",
       "        [6., 6., 6., 6.]])"
      ]
     },
     "execution_count": 74,
     "metadata": {},
     "output_type": "execute_result"
    }
   ],
   "source": [
    "tensor.matmul(tensor.T)"
   ]
  },
  {
   "cell_type": "code",
   "execution_count": 75,
   "id": "going-sweet",
   "metadata": {},
   "outputs": [
    {
     "data": {
      "text/plain": [
       "tensor([[6., 6., 6., 6.],\n",
       "        [6., 6., 6., 6.],\n",
       "        [6., 6., 6., 6.],\n",
       "        [6., 6., 6., 6.]])"
      ]
     },
     "execution_count": 75,
     "metadata": {},
     "output_type": "execute_result"
    }
   ],
   "source": [
    "tensor @ tensor.T"
   ]
  },
  {
   "cell_type": "code",
   "execution_count": null,
   "id": "synthetic-entrepreneur",
   "metadata": {},
   "outputs": [],
   "source": []
  },
  {
   "cell_type": "code",
   "execution_count": 76,
   "id": "random-clothing",
   "metadata": {},
   "outputs": [],
   "source": [
    "## In-place operations: _ ##\n",
    "\n",
    "# Operations that have a `_` suffix are in-place.\n",
    "# For example, x.copy_(y), x.t_() will change x"
   ]
  },
  {
   "cell_type": "code",
   "execution_count": 77,
   "id": "loose-coral",
   "metadata": {},
   "outputs": [
    {
     "data": {
      "text/plain": [
       "tensor([[1., 0., 2., 1.],\n",
       "        [1., 0., 2., 1.],\n",
       "        [1., 0., 2., 1.],\n",
       "        [1., 0., 2., 1.]])"
      ]
     },
     "execution_count": 77,
     "metadata": {},
     "output_type": "execute_result"
    }
   ],
   "source": [
    "tensor"
   ]
  },
  {
   "cell_type": "code",
   "execution_count": 78,
   "id": "impressive-ground",
   "metadata": {},
   "outputs": [
    {
     "data": {
      "text/plain": [
       "tensor([[6., 5., 7., 6.],\n",
       "        [6., 5., 7., 6.],\n",
       "        [6., 5., 7., 6.],\n",
       "        [6., 5., 7., 6.]])"
      ]
     },
     "execution_count": 78,
     "metadata": {},
     "output_type": "execute_result"
    }
   ],
   "source": [
    "tensor.add_(5)"
   ]
  },
  {
   "cell_type": "code",
   "execution_count": 79,
   "id": "returning-montgomery",
   "metadata": {},
   "outputs": [
    {
     "data": {
      "text/plain": [
       "tensor([[6., 5., 7., 6.],\n",
       "        [6., 5., 7., 6.],\n",
       "        [6., 5., 7., 6.],\n",
       "        [6., 5., 7., 6.]])"
      ]
     },
     "execution_count": 79,
     "metadata": {},
     "output_type": "execute_result"
    }
   ],
   "source": [
    "tensor  # Changed"
   ]
  },
  {
   "cell_type": "code",
   "execution_count": null,
   "id": "determined-westminster",
   "metadata": {},
   "outputs": [],
   "source": []
  }
 ],
 "metadata": {
  "kernelspec": {
   "display_name": "Python 3",
   "language": "python",
   "name": "python3"
  },
  "language_info": {
   "codemirror_mode": {
    "name": "ipython",
    "version": 3
   },
   "file_extension": ".py",
   "mimetype": "text/x-python",
   "name": "python",
   "nbconvert_exporter": "python",
   "pygments_lexer": "ipython3",
   "version": "3.8.5"
  }
 },
 "nbformat": 4,
 "nbformat_minor": 5
}
